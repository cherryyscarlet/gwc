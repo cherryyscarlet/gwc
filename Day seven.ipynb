{
 "cells": [
  {
   "cell_type": "code",
   "execution_count": 14,
   "metadata": {},
   "outputs": [
    {
     "name": "stdout",
     "output_type": "stream",
     "text": [
      "1\n",
      "3\n",
      "5\n",
      "7\n",
      "9\n",
      "11\n",
      "13\n",
      "15\n",
      "17\n",
      "19\n"
     ]
    }
   ],
   "source": [
    "for i in range (1, 21):\n",
    "    if i % 2 != 0: \n",
    "        print(i)"
   ]
  },
  {
   "cell_type": "code",
   "execution_count": null,
   "metadata": {},
   "outputs": [],
   "source": [
    "# --- Define your functions below! ---\n",
    "def introduction(): \"Hello I am Python\"\n",
    "\n",
    "# --- Put your main program below! ---\n",
    "def main():\n",
    "  while True:\n",
    "    introduction() \n",
    "    answer = input(\"(What will you say?) \")\n",
    "    print(\"That's cool!\")\n",
    "\n",
    "\n",
    "# DON'T TOUCH! Setup code that runs your main() function.\n",
    "if __name__ == \"__main__\":\n",
    "  main()"
   ]
  },
  {
   "cell_type": "code",
   "execution_count": null,
   "metadata": {},
   "outputs": [],
   "source": []
  },
  {
   "cell_type": "code",
   "execution_count": 19,
   "metadata": {},
   "outputs": [],
   "source": [
    "the_list = ['apple', 'squash', 'door', 'stop', 'sushi', 'strawberry', 'code', 'girls']\n",
    "s_words = []\n",
    "for i in the_list: \n",
    "    if i[0] == \"s\": \n",
    "        s_words.append(i)"
   ]
  },
  {
   "cell_type": "code",
   "execution_count": 20,
   "metadata": {},
   "outputs": [
    {
     "data": {
      "text/plain": [
       "['squash', 'stop', 'sushi', 'strawberry']"
      ]
     },
     "execution_count": 20,
     "metadata": {},
     "output_type": "execute_result"
    }
   ],
   "source": [
    "s_words"
   ]
  },
  {
   "cell_type": "code",
   "execution_count": null,
   "metadata": {},
   "outputs": [
    {
     "name": "stdout",
     "output_type": "stream",
     "text": [
      "(What will you say?) That's cool!\n",
      "That's cool!\n"
     ]
    }
   ],
   "source": [
    "# --- Define your functions below! ---\n",
    "\n",
    "\n",
    "# --- Put your main program below! ---\n",
    "def main():\n",
    "  while True:\n",
    "    answer = input(\"(What will you say?) \")\n",
    "    print(\"That's cool!\")\n",
    "\n",
    "\n",
    "# DON'T TOUCH! Setup code that runs your main() function.\n",
    "if __name__ == \"__main__\":\n",
    "  main()"
   ]
  }
 ],
 "metadata": {
  "kernelspec": {
   "display_name": "Python 3",
   "language": "python",
   "name": "python3"
  },
  "language_info": {
   "codemirror_mode": {
    "name": "ipython",
    "version": 3
   },
   "file_extension": ".py",
   "mimetype": "text/x-python",
   "name": "python",
   "nbconvert_exporter": "python",
   "pygments_lexer": "ipython3",
   "version": "3.7.3"
  }
 },
 "nbformat": 4,
 "nbformat_minor": 2
}
